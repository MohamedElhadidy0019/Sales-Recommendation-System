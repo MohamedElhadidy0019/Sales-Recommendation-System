{
 "cells": [
  {
   "cell_type": "code",
   "execution_count": 10,
   "metadata": {},
   "outputs": [],
   "source": [
    "import pandas as pd\n",
    "import numpy as np\n",
    "import matplotlib.pyplot as plt\n",
    "from copy import deepcopy\n",
    "from mlxtend.frequent_patterns import fpgrowth, association_rules\n"
   ]
  },
  {
   "cell_type": "code",
   "execution_count": 11,
   "metadata": {},
   "outputs": [],
   "source": [
    "# load dataset\n",
    "dataset = pd.read_csv('Dataset.csv')"
   ]
  },
  {
   "cell_type": "code",
   "execution_count": 12,
   "metadata": {},
   "outputs": [
    {
     "name": "stdout",
     "output_type": "stream",
     "text": [
      "Number of rows: 541909\n",
      "Number of nan rows: 136534\n",
      "Number of rows in StockCode that has a non number in its string: 54873\n"
     ]
    }
   ],
   "source": [
    "# print n of rows\n",
    "print('Number of rows: {}'.format(len(dataset)))\n",
    "\n",
    "# print number of nan rows\n",
    "print('Number of nan rows: {}'.format(dataset.isnull().sum().sum()))\n",
    "\n",
    "# print number of rows in StockCode that has a non number in its string\n",
    "print('Number of rows in StockCode that has a non number in its string: {}'.format(len(dataset[dataset['StockCode'].str.contains('[^0-9]')])))\n"
   ]
  },
  {
   "cell_type": "code",
   "execution_count": 13,
   "metadata": {},
   "outputs": [
    {
     "name": "stdout",
     "output_type": "stream",
     "text": [
      "    InvoiceNo StockCode Description  Quantity          InvoiceDate  UnitPrice  \\\n",
      "622    536414     22139         NaN        56  2010-12-01 11:52:00        0.0   \n",
      "\n",
      "     CustomerID         Country  \n",
      "622         NaN  United Kingdom  \n"
     ]
    }
   ],
   "source": [
    "#print the first row that has nan\n",
    "print(dataset[dataset.isnull().any(axis=1)].head(1))"
   ]
  },
  {
   "cell_type": "code",
   "execution_count": 14,
   "metadata": {},
   "outputs": [
    {
     "name": "stdout",
     "output_type": "stream",
     "text": [
      "541909\n",
      "536478\n",
      "401548\n",
      "358302\n"
     ]
    },
    {
     "data": {
      "text/html": [
       "<div>\n",
       "<style scoped>\n",
       "    .dataframe tbody tr th:only-of-type {\n",
       "        vertical-align: middle;\n",
       "    }\n",
       "\n",
       "    .dataframe tbody tr th {\n",
       "        vertical-align: top;\n",
       "    }\n",
       "\n",
       "    .dataframe thead th {\n",
       "        text-align: right;\n",
       "    }\n",
       "</style>\n",
       "<table border=\"1\" class=\"dataframe\">\n",
       "  <thead>\n",
       "    <tr style=\"text-align: right;\">\n",
       "      <th></th>\n",
       "      <th>InvoiceNo</th>\n",
       "      <th>StockCode</th>\n",
       "      <th>Quantity</th>\n",
       "      <th>CustomerID</th>\n",
       "    </tr>\n",
       "  </thead>\n",
       "  <tbody>\n",
       "    <tr>\n",
       "      <th>1</th>\n",
       "      <td>536365</td>\n",
       "      <td>71053</td>\n",
       "      <td>6</td>\n",
       "      <td>17850</td>\n",
       "    </tr>\n",
       "    <tr>\n",
       "      <th>5</th>\n",
       "      <td>536365</td>\n",
       "      <td>22752</td>\n",
       "      <td>2</td>\n",
       "      <td>17850</td>\n",
       "    </tr>\n",
       "    <tr>\n",
       "      <th>6</th>\n",
       "      <td>536365</td>\n",
       "      <td>21730</td>\n",
       "      <td>6</td>\n",
       "      <td>17850</td>\n",
       "    </tr>\n",
       "    <tr>\n",
       "      <th>7</th>\n",
       "      <td>536366</td>\n",
       "      <td>22633</td>\n",
       "      <td>6</td>\n",
       "      <td>17850</td>\n",
       "    </tr>\n",
       "    <tr>\n",
       "      <th>8</th>\n",
       "      <td>536366</td>\n",
       "      <td>22632</td>\n",
       "      <td>6</td>\n",
       "      <td>17850</td>\n",
       "    </tr>\n",
       "  </tbody>\n",
       "</table>\n",
       "</div>"
      ],
      "text/plain": [
       "   InvoiceNo  StockCode  Quantity  CustomerID\n",
       "1     536365      71053         6       17850\n",
       "5     536365      22752         2       17850\n",
       "6     536365      21730         6       17850\n",
       "7     536366      22633         6       17850\n",
       "8     536366      22632         6       17850"
      ]
     },
     "execution_count": 14,
     "metadata": {},
     "output_type": "execute_result"
    }
   ],
   "source": [
    "# need only columns of ['InvoiceNo', 'StockCode', 'Quantity', 'CustomerID']\n",
    "df = dataset[['InvoiceNo', 'StockCode', 'Quantity', 'CustomerID']]\n",
    "# print len\n",
    "print(len(df))\n",
    "# drop duplicates\n",
    "df = df.drop_duplicates()\n",
    "# print len\n",
    "print(len(df))\n",
    "# drop null values\n",
    "df = df.dropna()\n",
    "# print len\n",
    "print(len(df))\n",
    "# drop any row that have non numeric value, and convert to int\n",
    "df = df[pd.to_numeric(df['CustomerID'], errors='coerce').notnull()]\n",
    "df['CustomerID'] = df['CustomerID'].astype(int)\n",
    "df = df[pd.to_numeric(df['InvoiceNo'], errors='coerce').notnull()]\n",
    "df['InvoiceNo'] = df['InvoiceNo'].astype(int)\n",
    "df = df[pd.to_numeric(df['StockCode'], errors='coerce').notnull()]\n",
    "df['StockCode'] = df['StockCode'].astype(int)\n",
    "df = df[pd.to_numeric(df['Quantity'], errors='coerce').notnull()]\n",
    "df['Quantity'] = df['Quantity'].astype(int)\n",
    "\n",
    "# print len\n",
    "print(len(df))\n",
    "\n",
    "# head\n",
    "df.head()\n"
   ]
  },
  {
   "cell_type": "code",
   "execution_count": 15,
   "metadata": {},
   "outputs": [],
   "source": [
    "def pre_process_df (dataset : pd.DataFrame) -> pd.DataFrame :\n",
    "    dataset = deepcopy(dataset)\n",
    "    df = dataset[['InvoiceNo', 'StockCode', 'Quantity', 'CustomerID']]\n",
    "    df = df.drop_duplicates()\n",
    "    \n",
    "    # drop null values\n",
    "    df = df.dropna()\n",
    "    # drop any row that have non numeric value, and convert to int\n",
    "    df = df[pd.to_numeric(df['CustomerID'], errors='coerce').notnull()]\n",
    "    df['CustomerID'] = df['CustomerID'].astype(int)\n",
    "    df = df[pd.to_numeric(df['InvoiceNo'], errors='coerce').notnull()]\n",
    "    df['InvoiceNo'] = df['InvoiceNo'].astype(int)\n",
    "    df = df[pd.to_numeric(df['StockCode'], errors='coerce').notnull()]\n",
    "    df['StockCode'] = df['StockCode'].astype(int)\n",
    "    df = df[pd.to_numeric(df['Quantity'], errors='coerce').notnull()]\n",
    "    df['Quantity'] = df['Quantity'].astype(int)\n",
    "\n",
    "    return df\n"
   ]
  },
  {
   "cell_type": "code",
   "execution_count": 20,
   "metadata": {},
   "outputs": [
    {
     "data": {
      "text/html": [
       "<div>\n",
       "<style scoped>\n",
       "    .dataframe tbody tr th:only-of-type {\n",
       "        vertical-align: middle;\n",
       "    }\n",
       "\n",
       "    .dataframe tbody tr th {\n",
       "        vertical-align: top;\n",
       "    }\n",
       "\n",
       "    .dataframe thead th {\n",
       "        text-align: right;\n",
       "    }\n",
       "</style>\n",
       "<table border=\"1\" class=\"dataframe\">\n",
       "  <thead>\n",
       "    <tr style=\"text-align: right;\">\n",
       "      <th></th>\n",
       "      <th>InvoiceNo</th>\n",
       "      <th>StockCode</th>\n",
       "      <th>Quantity</th>\n",
       "      <th>CustomerID</th>\n",
       "    </tr>\n",
       "  </thead>\n",
       "  <tbody>\n",
       "    <tr>\n",
       "      <th>1</th>\n",
       "      <td>536365</td>\n",
       "      <td>71053</td>\n",
       "      <td>6</td>\n",
       "      <td>17850</td>\n",
       "    </tr>\n",
       "    <tr>\n",
       "      <th>5</th>\n",
       "      <td>536365</td>\n",
       "      <td>22752</td>\n",
       "      <td>2</td>\n",
       "      <td>17850</td>\n",
       "    </tr>\n",
       "    <tr>\n",
       "      <th>6</th>\n",
       "      <td>536365</td>\n",
       "      <td>21730</td>\n",
       "      <td>6</td>\n",
       "      <td>17850</td>\n",
       "    </tr>\n",
       "    <tr>\n",
       "      <th>7</th>\n",
       "      <td>536366</td>\n",
       "      <td>22633</td>\n",
       "      <td>6</td>\n",
       "      <td>17850</td>\n",
       "    </tr>\n",
       "    <tr>\n",
       "      <th>8</th>\n",
       "      <td>536366</td>\n",
       "      <td>22632</td>\n",
       "      <td>6</td>\n",
       "      <td>17850</td>\n",
       "    </tr>\n",
       "  </tbody>\n",
       "</table>\n",
       "</div>"
      ],
      "text/plain": [
       "   InvoiceNo  StockCode  Quantity  CustomerID\n",
       "1     536365      71053         6       17850\n",
       "5     536365      22752         2       17850\n",
       "6     536365      21730         6       17850\n",
       "7     536366      22633         6       17850\n",
       "8     536366      22632         6       17850"
      ]
     },
     "execution_count": 20,
     "metadata": {},
     "output_type": "execute_result"
    }
   ],
   "source": [
    "df = pre_process_df(dataset= dataset)\n",
    "df.head()"
   ]
  },
  {
   "cell_type": "code",
   "execution_count": 21,
   "metadata": {},
   "outputs": [
    {
     "name": "stderr",
     "output_type": "stream",
     "text": [
      "/home/mohamed/miniconda3/envs/rmd/lib/python3.8/site-packages/mlxtend/frequent_patterns/fpcommon.py:110: DeprecationWarning: DataFrames with non-bool types result in worse computationalperformance and their support might be discontinued in the future.Please use a DataFrame with bool type\n",
      "  warnings.warn(\n"
     ]
    }
   ],
   "source": [
    "min_support = 0.01\n",
    "min_confidence = 0.5\n",
    "# drop customer id column\n",
    "# for quantitiy if(quantitiy > 0) then 1 else 0\n",
    "df['Quantity'] = df['Quantity'].apply(lambda x: 1 if x >= 1 else 0)\n",
    "\n",
    "transaction_data = df.pivot_table(index='InvoiceNo', columns='StockCode', values='Quantity', fill_value=0)\n",
    "frequent_itemsets = fpgrowth(transaction_data, min_support=min_support, use_colnames=True)\n"
   ]
  },
  {
   "cell_type": "code",
   "execution_count": 22,
   "metadata": {},
   "outputs": [],
   "source": [
    "def get_item_suggestions(customer_id, num_suggestions=5):\n",
    "    user_transactions = df[(df['CustomerID'] == customer_id) & (df['Quantity'] > 0)]['StockCode']\n",
    "    user_items = list(user_transactions.unique())\n",
    "    \n",
    "    suggestions = []\n",
    "    for item in user_items:\n",
    "        related_items = frequent_itemsets[frequent_itemsets['itemsets'].apply(lambda x: item in x)]\n",
    "        suggestions.extend(related_items['itemsets'])\n",
    "    \n",
    "    suggestions = pd.Series(suggestions).value_counts().head(num_suggestions)\n",
    "    return suggestions\n"
   ]
  },
  {
   "cell_type": "code",
   "execution_count": 23,
   "metadata": {},
   "outputs": [
    {
     "name": "stdout",
     "output_type": "stream",
     "text": [
      "Item suggestions for CustomerID: 17850\n",
      "(82482, 82483)    2\n",
      "(82483, 82486)    2\n",
      "(82482, 82486)    2\n",
      "(82486)           1\n",
      "(21928, 22411)    1\n",
      "Name: count, dtype: int64\n"
     ]
    }
   ],
   "source": [
    "# Get item suggestions for a specific CustomerID\n",
    "customer_id = 17850  # Replace with a valid CustomerID\n",
    "suggestions = get_item_suggestions(customer_id)\n",
    "print(\"Item suggestions for CustomerID:\", customer_id)\n",
    "print(suggestions)"
   ]
  },
  {
   "cell_type": "code",
   "execution_count": null,
   "metadata": {},
   "outputs": [],
   "source": []
  },
  {
   "cell_type": "code",
   "execution_count": null,
   "metadata": {},
   "outputs": [],
   "source": []
  },
  {
   "cell_type": "code",
   "execution_count": null,
   "metadata": {},
   "outputs": [],
   "source": [
    "# InvoiceNo: A unique number that identifies the invoice1.\n",
    "# StockCode: A code that represents the product or service sold2.\n",
    "# Description: A brief description of the product or service sold3.\n",
    "# Quantity: The number of units of the product or service sold3.\n",
    "# InvoiceDate: The date when the invoice was issued1.\n",
    "# UnitPrice: The price per unit of the product or service sold3.\n",
    "# CustomerID: A unique number that identifies the customer who bought the product or service2.\n",
    "# Country: The country where the customer is located2."
   ]
  }
 ],
 "metadata": {
  "kernelspec": {
   "display_name": "rmd",
   "language": "python",
   "name": "python3"
  },
  "language_info": {
   "codemirror_mode": {
    "name": "ipython",
    "version": 3
   },
   "file_extension": ".py",
   "mimetype": "text/x-python",
   "name": "python",
   "nbconvert_exporter": "python",
   "pygments_lexer": "ipython3",
   "version": "3.8.17"
  },
  "orig_nbformat": 4
 },
 "nbformat": 4,
 "nbformat_minor": 2
}
