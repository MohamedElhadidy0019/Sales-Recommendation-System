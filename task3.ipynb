{
 "cells": [
  {
   "cell_type": "code",
   "execution_count": 2,
   "metadata": {},
   "outputs": [],
   "source": [
    "import pandas as pd"
   ]
  },
  {
   "cell_type": "code",
   "execution_count": 5,
   "metadata": {},
   "outputs": [],
   "source": [
    "df = pd.read_csv('Dataset.csv', usecols=['InvoiceNo', 'StockCode', 'Quantity'])\n",
    "df = df[df['Quantity'] > 0]\n",
    "# drop duplicates\n",
    "df = df.drop_duplicates()\n",
    "# drop na\n",
    "df = df.dropna()\n",
    "# get unique StockCode\n",
    "stock_codes = df['StockCode'].unique()\n"
   ]
  },
  {
   "cell_type": "code",
   "execution_count": 6,
   "metadata": {},
   "outputs": [
    {
     "data": {
      "text/html": [
       "<div>\n",
       "<style scoped>\n",
       "    .dataframe tbody tr th:only-of-type {\n",
       "        vertical-align: middle;\n",
       "    }\n",
       "\n",
       "    .dataframe tbody tr th {\n",
       "        vertical-align: top;\n",
       "    }\n",
       "\n",
       "    .dataframe thead th {\n",
       "        text-align: right;\n",
       "    }\n",
       "</style>\n",
       "<table border=\"1\" class=\"dataframe\">\n",
       "  <thead>\n",
       "    <tr style=\"text-align: right;\">\n",
       "      <th></th>\n",
       "      <th>InvoiceNo</th>\n",
       "      <th>StockCode</th>\n",
       "    </tr>\n",
       "  </thead>\n",
       "  <tbody>\n",
       "    <tr>\n",
       "      <th>0</th>\n",
       "      <td>536365</td>\n",
       "      <td>[85123A, 71053, 84406B, 84029G, 84029E, 22752,...</td>\n",
       "    </tr>\n",
       "    <tr>\n",
       "      <th>1</th>\n",
       "      <td>536366</td>\n",
       "      <td>[22633, 22632]</td>\n",
       "    </tr>\n",
       "    <tr>\n",
       "      <th>2</th>\n",
       "      <td>536367</td>\n",
       "      <td>[84879, 22745, 22748, 22749, 22310, 84969, 226...</td>\n",
       "    </tr>\n",
       "    <tr>\n",
       "      <th>3</th>\n",
       "      <td>536368</td>\n",
       "      <td>[22960, 22913, 22912, 22914]</td>\n",
       "    </tr>\n",
       "    <tr>\n",
       "      <th>4</th>\n",
       "      <td>536369</td>\n",
       "      <td>[21756]</td>\n",
       "    </tr>\n",
       "  </tbody>\n",
       "</table>\n",
       "</div>"
      ],
      "text/plain": [
       "  InvoiceNo                                          StockCode\n",
       "0    536365  [85123A, 71053, 84406B, 84029G, 84029E, 22752,...\n",
       "1    536366                                     [22633, 22632]\n",
       "2    536367  [84879, 22745, 22748, 22749, 22310, 84969, 226...\n",
       "3    536368                       [22960, 22913, 22912, 22914]\n",
       "4    536369                                            [21756]"
      ]
     },
     "execution_count": 6,
     "metadata": {},
     "output_type": "execute_result"
    }
   ],
   "source": [
    "# group on InvoiceNo and make a list of StockCode\n",
    "df = df.groupby('InvoiceNo')['StockCode'].apply(list).reset_index(name='StockCode')\n",
    "df.head()"
   ]
  },
  {
   "cell_type": "code",
   "execution_count": 10,
   "metadata": {},
   "outputs": [],
   "source": [
    "# 22748\n",
    "test_code = '22748'\n",
    "# get me each row that has the test code in one of the element os Stockcode\n",
    "test_df = df[df['StockCode'].apply(lambda lst: test_code in lst)]"
   ]
  },
  {
   "cell_type": "code",
   "execution_count": 12,
   "metadata": {},
   "outputs": [
    {
     "name": "stdout",
     "output_type": "stream",
     "text": [
      "(436, 2)\n"
     ]
    }
   ],
   "source": [
    "test_df.head()\n",
    "print(test_df.shape)"
   ]
  },
  {
   "cell_type": "code",
   "execution_count": 15,
   "metadata": {},
   "outputs": [
    {
     "name": "stdout",
     "output_type": "stream",
     "text": [
      "[('22748', 439), ('22745', 314), ('22746', 263), ('22747', 194), ('22423', 109), ('22086', 108), ('21790', 107), ('20725', 102), ('21212', 100), ('85123A', 97)]\n"
     ]
    }
   ],
   "source": [
    "# for test df use all the columns as one list\n",
    "# and count the frequency of each word in the list\n",
    "# and then sort the list by frequency\n",
    "# and then print the top 10 words\n",
    "from itertools import chain\n",
    "\n",
    "# Assuming df['StockCode'] is a column containing lists of strings\n",
    "all_stock_codes = list(chain.from_iterable(test_df['StockCode']))\n",
    "\n",
    "# Count the frequency of each word\n",
    "word_freq = {}\n",
    "for word in all_stock_codes:\n",
    "    if word in word_freq:\n",
    "        word_freq[word] += 1\n",
    "    else:\n",
    "        word_freq[word] = 1\n",
    "\n",
    "# Sort the list by frequency\n",
    "sorted_word_freq = sorted(word_freq.items(), key=lambda x: x[1], reverse=True)\n",
    "\n",
    "# Print the top 10 words\n",
    "print(sorted_word_freq[:10])\n"
   ]
  },
  {
   "cell_type": "code",
   "execution_count": null,
   "metadata": {},
   "outputs": [],
   "source": []
  }
 ],
 "metadata": {
  "kernelspec": {
   "display_name": "rmd",
   "language": "python",
   "name": "python3"
  },
  "language_info": {
   "codemirror_mode": {
    "name": "ipython",
    "version": 3
   },
   "file_extension": ".py",
   "mimetype": "text/x-python",
   "name": "python",
   "nbconvert_exporter": "python",
   "pygments_lexer": "ipython3",
   "version": "3.8.17"
  },
  "orig_nbformat": 4
 },
 "nbformat": 4,
 "nbformat_minor": 2
}
