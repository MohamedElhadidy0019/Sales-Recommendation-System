{
 "cells": [
  {
   "cell_type": "code",
   "execution_count": 10,
   "metadata": {},
   "outputs": [
    {
     "name": "stdout",
     "output_type": "stream",
     "text": [
      "RMSE: 46.2750\n"
     ]
    },
    {
     "data": {
      "text/plain": [
       "46.27497570067783"
      ]
     },
     "execution_count": 10,
     "metadata": {},
     "output_type": "execute_result"
    }
   ],
   "source": [
    "import pandas as pd\n",
    "from surprise import Dataset, Reader, SVD\n",
    "from surprise.model_selection import train_test_split\n",
    "from surprise import accuracy\n",
    "\n",
    "# Load the dataset (excluding Description and InvoiceDate columns)\n",
    "df = pd.read_csv('Dataset.csv', usecols=['CustomerID', 'StockCode', 'Quantity'])\n",
    "\n",
    "# Preprocess the data (drop NaN rows and convert to integer)\n",
    "df.dropna(subset=['CustomerID', 'StockCode', 'Quantity'], inplace=True)\n",
    "# drop StockCode with non-numeric values\n",
    "df = df[df['StockCode'].str.isnumeric()]\n",
    "\n",
    "df = df.astype({'CustomerID': int, 'StockCode': int, 'Quantity': int})\n",
    "\n",
    "# Create a Surprise Dataset\n",
    "reader = Reader(rating_scale=(1, 5))\n",
    "data = Dataset.load_from_df(df[['CustomerID', 'StockCode', 'Quantity']], reader)\n",
    "\n",
    "# Split the data into train and test sets\n",
    "trainset, testset = train_test_split(data, test_size=0.2, random_state=42)\n",
    "\n",
    "# Build and train the SVD model\n",
    "model = SVD(n_factors=50, random_state=42)\n",
    "model.fit(trainset)\n",
    "\n",
    "# Make predictions\n",
    "predictions = model.test(testset)\n",
    "\n",
    "# Evaluate the model\n",
    "accuracy.rmse(predictions)"
   ]
  },
  {
   "cell_type": "code",
   "execution_count": 3,
   "metadata": {},
   "outputs": [
    {
     "name": "stdout",
     "output_type": "stream",
     "text": [
      "MAE:  10.7361\n",
      "MAE: 10.736078917578567\n",
      "Precision: 0.6581585898334321\n",
      "Recall: 1.0\n",
      "F1-Score: 0.79384275288113\n"
     ]
    }
   ],
   "source": [
    "from surprise.accuracy import mae\n",
    "from surprise.model_selection import cross_validate\n",
    "from sklearn.metrics import precision_score, recall_score, f1_score\n",
    "\n",
    "# Calculate MAE using Surprise's built-in function\n",
    "mae_score = mae(predictions)\n",
    "\n",
    "# Convert predictions to binary recommendations (1 for predicted ratings >= 3, 0 otherwise)\n",
    "binary_predictions = [1 if prediction.est >= 3 else 0 for prediction in predictions]\n",
    "binary_actuals = [1 if prediction.r_ui >= 3 else 0 for prediction in predictions]\n",
    "\n",
    "# Calculate Precision, Recall, and F1-Score using scikit-learn\n",
    "precision = precision_score(binary_actuals, binary_predictions)\n",
    "recall = recall_score(binary_actuals, binary_predictions)\n",
    "f1 = f1_score(binary_actuals, binary_predictions)\n",
    "\n",
    "print(\"MAE:\", mae_score)\n",
    "print(\"Precision:\", precision)\n",
    "print(\"Recall:\", recall)\n",
    "print(\"F1-Score:\", f1)\n"
   ]
  },
  {
   "cell_type": "code",
   "execution_count": 4,
   "metadata": {},
   "outputs": [
    {
     "name": "stdout",
     "output_type": "stream",
     "text": [
      "Item recommendations for User ID: 17850\n",
      "[84879, 22745, 22748, 22749, 22310]\n"
     ]
    }
   ],
   "source": [
    "# Function to get item recommendations for a given user\n",
    "def get_item_recommendations(user_id, num_recommendations=5):\n",
    "    items_already_purchased = df[df['CustomerID'] == user_id]['StockCode'].tolist()\n",
    "    \n",
    "    # Get all item IDs\n",
    "    item_ids = df['StockCode'].unique()\n",
    "    \n",
    "    # Remove items already purchased\n",
    "    items_to_predict = [item_id for item_id in item_ids if item_id not in items_already_purchased]\n",
    "    \n",
    "    # Predict ratings for items\n",
    "    predictions = [model.predict(user_id, item_id) for item_id in items_to_predict]\n",
    "    \n",
    "    # Sort predictions by predicted rating\n",
    "    predictions.sort(key=lambda x: x.est, reverse=True)\n",
    "    \n",
    "    # Get top N recommended items\n",
    "    top_recommendations = [prediction.iid for prediction in predictions[:num_recommendations]]\n",
    "    return top_recommendations\n",
    "\n",
    "# Get item recommendations for a specific user\n",
    "user_id = 17850  # Replace with a valid CustomerID\n",
    "recommendations = get_item_recommendations(user_id)\n",
    "print(\"Item recommendations for User ID:\", user_id)\n",
    "print(recommendations)"
   ]
  },
  {
   "cell_type": "code",
   "execution_count": null,
   "metadata": {},
   "outputs": [],
   "source": []
  },
  {
   "cell_type": "code",
   "execution_count": null,
   "metadata": {},
   "outputs": [],
   "source": []
  },
  {
   "cell_type": "code",
   "execution_count": 9,
   "metadata": {},
   "outputs": [
    {
     "ename": "ValueError",
     "evalue": "not enough values to unpack (expected 4, got 3)",
     "output_type": "error",
     "traceback": [
      "\u001b[0;31m---------------------------------------------------------------------------\u001b[0m",
      "\u001b[0;31mValueError\u001b[0m                                Traceback (most recent call last)",
      "Cell \u001b[0;32mIn[9], line 29\u001b[0m\n\u001b[1;32m     26\u001b[0m test_customers \u001b[39m=\u001b[39m unique_customers[\u001b[39m-\u001b[39mtest_size:]\n\u001b[1;32m     28\u001b[0m \u001b[39m# Create train and test sets using PredefinedKFold\u001b[39;00m\n\u001b[0;32m---> 29\u001b[0m trainset \u001b[39m=\u001b[39m data\u001b[39m.\u001b[39;49mconstruct_trainset(df[df[\u001b[39m'\u001b[39;49m\u001b[39mCustomerID\u001b[39;49m\u001b[39m'\u001b[39;49m]\u001b[39m.\u001b[39;49misin(train_customers)]\u001b[39m.\u001b[39;49mvalues)\n\u001b[1;32m     30\u001b[0m testset \u001b[39m=\u001b[39m data\u001b[39m.\u001b[39mconstruct_testset(df[df[\u001b[39m'\u001b[39m\u001b[39mCustomerID\u001b[39m\u001b[39m'\u001b[39m]\u001b[39m.\u001b[39misin(test_customers)]\u001b[39m.\u001b[39mvalues)\n\u001b[1;32m     32\u001b[0m \u001b[39m# Build and train the SVD model on the train set\u001b[39;00m\n",
      "File \u001b[0;32m~/miniconda3/envs/rmd/lib/python3.8/site-packages/surprise/dataset.py:192\u001b[0m, in \u001b[0;36mDataset.construct_trainset\u001b[0;34m(self, raw_trainset)\u001b[0m\n\u001b[1;32m    189\u001b[0m ir \u001b[39m=\u001b[39m defaultdict(\u001b[39mlist\u001b[39m)\n\u001b[1;32m    191\u001b[0m \u001b[39m# user raw id, item raw id, translated rating, time stamp\u001b[39;00m\n\u001b[0;32m--> 192\u001b[0m \u001b[39mfor\u001b[39;00m urid, irid, r, timestamp \u001b[39min\u001b[39;00m raw_trainset:\n\u001b[1;32m    193\u001b[0m     \u001b[39mtry\u001b[39;00m:\n\u001b[1;32m    194\u001b[0m         uid \u001b[39m=\u001b[39m raw2inner_id_users[urid]\n",
      "\u001b[0;31mValueError\u001b[0m: not enough values to unpack (expected 4, got 3)"
     ]
    }
   ],
   "source": []
  },
  {
   "cell_type": "code",
   "execution_count": 12,
   "metadata": {},
   "outputs": [
    {
     "data": {
      "text/plain": [
       "array([17850, 13047, 12583, ..., 13298, 14569, 12713])"
      ]
     },
     "execution_count": 12,
     "metadata": {},
     "output_type": "execute_result"
    }
   ],
   "source": [
    "# get list of unique users\n",
    "users = df['CustomerID'].unique()\n",
    "users"
   ]
  },
  {
   "cell_type": "code",
   "execution_count": 16,
   "metadata": {},
   "outputs": [],
   "source": [
    "test_len = 0.8*(len(users))\n",
    "test_customers = users[:int(test_len)]\n",
    "train_customers = users[int(test_len):]\n"
   ]
  },
  {
   "cell_type": "code",
   "execution_count": null,
   "metadata": {},
   "outputs": [],
   "source": []
  }
 ],
 "metadata": {
  "kernelspec": {
   "display_name": "rmd",
   "language": "python",
   "name": "python3"
  },
  "language_info": {
   "codemirror_mode": {
    "name": "ipython",
    "version": 3
   },
   "file_extension": ".py",
   "mimetype": "text/x-python",
   "name": "python",
   "nbconvert_exporter": "python",
   "pygments_lexer": "ipython3",
   "version": "3.8.17"
  },
  "orig_nbformat": 4
 },
 "nbformat": 4,
 "nbformat_minor": 2
}
