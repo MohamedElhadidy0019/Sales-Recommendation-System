{
 "cells": [
  {
   "cell_type": "code",
   "execution_count": 46,
   "metadata": {},
   "outputs": [],
   "source": [
    "import pandas as pd\n",
    "import numpy as np\n",
    "import tensorflow as tf\n",
    "import tensorflow_hub as hub\n",
    "from sklearn.metrics.pairwise import cosine_similarity\n"
   ]
  },
  {
   "cell_type": "code",
   "execution_count": 43,
   "metadata": {},
   "outputs": [],
   "source": [
    "df = pd.read_csv('Dataset.csv', usecols=['StockCode', 'Description'])\n",
    "df = df.dropna()\n",
    "df = df.drop_duplicates()"
   ]
  },
  {
   "cell_type": "code",
   "execution_count": 44,
   "metadata": {},
   "outputs": [
    {
     "name": "stdout",
     "output_type": "stream",
     "text": [
      "Number of unique StockCode:  3958\n",
      "Number of duplicate StockCode:  834\n",
      "     StockCode                         Description\n",
      "257      22632           HAND WARMER RED RETROSPOT\n",
      "2343     22972              CHILDRENS SPACEBOY MUG\n",
      "3305     22965  3 TRADITIONAl BISCUIT CUTTERS  SET\n",
      "3414     22776        CAKESTAND, 3 TIER, LOVEHEART\n",
      "3415     22778                GLASS BELL JAR SMALL\n",
      "All of StockCode 22632: \n",
      "       StockCode           Description\n",
      "138        22778    GLASS CLOCHE SMALL\n",
      "3415       22778  GLASS BELL JAR SMALL\n",
      "478932     22778                 check\n"
     ]
    }
   ],
   "source": [
    "# print n of unique StockCode\n",
    "print(\"Number of unique StockCode: \", len(df['StockCode'].unique()))\n",
    "\n",
    "# get duplicate StockCode\n",
    "duplicateStockCode = df[df.duplicated(['StockCode'])]\n",
    "print(\"Number of duplicate StockCode: \", len(duplicateStockCode))\n",
    "# print the first 5 duplicate StockCode\n",
    "print(duplicateStockCode.head())\n",
    "# print all of StockCode 22632\n",
    "print(\"All of StockCode 22632: \")\n",
    "print(df[df['StockCode'] == '22778'])\n",
    "\n",
    "# decide not to remove duplicate StockCode because they may have different description"
   ]
  },
  {
   "cell_type": "code",
   "execution_count": 45,
   "metadata": {},
   "outputs": [
    {
     "name": "stdout",
     "output_type": "stream",
     "text": [
      "[('85123A', 'WHITE HANGING HEART T-LIGHT HOLDER'), ('71053', 'WHITE METAL LANTERN'), ('84406B', 'CREAM CUPID HEARTS COAT HANGER'), ('84029G', 'KNITTED UNION FLAG HOT WATER BOTTLE'), ('84029E', 'RED WOOLLY HOTTIE WHITE HEART.'), ('22752', 'SET 7 BABUSHKA NESTING BOXES'), ('21730', 'GLASS STAR FROSTED T-LIGHT HOLDER'), ('22633', 'HAND WARMER UNION JACK'), ('22632', 'HAND WARMER RED POLKA DOT'), ('84879', 'ASSORTED COLOUR BIRD ORNAMENT')]\n"
     ]
    }
   ],
   "source": [
    "item_tuples = [(row['StockCode'], row['Description']) for index, row in df.iterrows()]\n",
    "\n",
    "# print the first 10 tuples\n",
    "print(item_tuples[:10])"
   ]
  },
  {
   "cell_type": "code",
   "execution_count": 47,
   "metadata": {},
   "outputs": [],
   "source": [
    "module_url = \"https://tfhub.dev/google/universal-sentence-encoder/4\" #@param [\"https://tfhub.dev/google/universal-sentence-encoder/4\", \"https://tfhub.dev/google/universal-sentence-encoder-large/5\"]\n",
    "model = hub.load(module_url)\n",
    "def embed(input):\n",
    "  return model(input)\n",
    "\n",
    "\n",
    "def calculate_cosine_similarity(vec_a, vec_b):\n",
    "    vec_a = np.array(vec_a).reshape(1, -1)\n",
    "    vec_b = np.array(vec_b).reshape(1, -1)\n",
    "    \n",
    "    similarity = cosine_similarity(vec_a, vec_b)\n",
    "    return similarity[0][0]"
   ]
  },
  {
   "cell_type": "code",
   "execution_count": 55,
   "metadata": {},
   "outputs": [
    {
     "name": "stdout",
     "output_type": "stream",
     "text": [
      "Cosine similarity:  0.63785994\n"
     ]
    }
   ],
   "source": []
  },
  {
   "cell_type": "code",
   "execution_count": null,
   "metadata": {},
   "outputs": [],
   "source": []
  }
 ],
 "metadata": {
  "kernelspec": {
   "display_name": "rmd",
   "language": "python",
   "name": "python3"
  },
  "language_info": {
   "codemirror_mode": {
    "name": "ipython",
    "version": 3
   },
   "file_extension": ".py",
   "mimetype": "text/x-python",
   "name": "python",
   "nbconvert_exporter": "python",
   "pygments_lexer": "ipython3",
   "version": "3.8.17"
  },
  "orig_nbformat": 4
 },
 "nbformat": 4,
 "nbformat_minor": 2
}
