{
 "cells": [
  {
   "cell_type": "code",
   "execution_count": 1,
   "metadata": {},
   "outputs": [
    {
     "name": "stderr",
     "output_type": "stream",
     "text": [
      "2023-08-15 01:12:50.278410: I tensorflow/tsl/cuda/cudart_stub.cc:28] Could not find cuda drivers on your machine, GPU will not be used.\n",
      "2023-08-15 01:12:50.628711: I tensorflow/tsl/cuda/cudart_stub.cc:28] Could not find cuda drivers on your machine, GPU will not be used.\n",
      "2023-08-15 01:12:50.629774: I tensorflow/core/platform/cpu_feature_guard.cc:182] This TensorFlow binary is optimized to use available CPU instructions in performance-critical operations.\n",
      "To enable the following instructions: AVX2 FMA, in other operations, rebuild TensorFlow with the appropriate compiler flags.\n",
      "2023-08-15 01:12:52.723116: W tensorflow/compiler/tf2tensorrt/utils/py_utils.cc:38] TF-TRT Warning: Could not find TensorRT\n"
     ]
    }
   ],
   "source": [
    "import pandas as pd\n",
    "import numpy as np\n",
    "import tensorflow as tf\n",
    "import tensorflow_hub as hub\n",
    "from sklearn.metrics.pairwise import cosine_similarity\n"
   ]
  },
  {
   "cell_type": "code",
   "execution_count": 2,
   "metadata": {},
   "outputs": [],
   "source": [
    "df = pd.read_csv('Dataset.csv', usecols=['StockCode', 'Description'])\n",
    "df = df.dropna()\n",
    "df = df.drop_duplicates()"
   ]
  },
  {
   "cell_type": "code",
   "execution_count": 3,
   "metadata": {},
   "outputs": [
    {
     "name": "stdout",
     "output_type": "stream",
     "text": [
      "Number of unique StockCode:  3958\n",
      "Number of duplicate StockCode:  834\n",
      "     StockCode                         Description\n",
      "257      22632           HAND WARMER RED RETROSPOT\n",
      "2343     22972              CHILDRENS SPACEBOY MUG\n",
      "3305     22965  3 TRADITIONAl BISCUIT CUTTERS  SET\n",
      "3414     22776        CAKESTAND, 3 TIER, LOVEHEART\n",
      "3415     22778                GLASS BELL JAR SMALL\n",
      "All of StockCode 22632: \n",
      "       StockCode           Description\n",
      "138        22778    GLASS CLOCHE SMALL\n",
      "3415       22778  GLASS BELL JAR SMALL\n",
      "478932     22778                 check\n"
     ]
    }
   ],
   "source": [
    "# print n of unique StockCode\n",
    "print(\"Number of unique StockCode: \", len(df['StockCode'].unique()))\n",
    "\n",
    "# get duplicate StockCode\n",
    "duplicateStockCode = df[df.duplicated(['StockCode'])]\n",
    "print(\"Number of duplicate StockCode: \", len(duplicateStockCode))\n",
    "# print the first 5 duplicate StockCode\n",
    "print(duplicateStockCode.head())\n",
    "# print all of StockCode 22632\n",
    "print(\"All of StockCode 22632: \")\n",
    "print(df[df['StockCode'] == '22778'])\n",
    "\n",
    "# decide not to remove duplicate StockCode because they may have different description"
   ]
  },
  {
   "cell_type": "code",
   "execution_count": 4,
   "metadata": {},
   "outputs": [
    {
     "name": "stdout",
     "output_type": "stream",
     "text": [
      "[('85123A', 'WHITE HANGING HEART T-LIGHT HOLDER'), ('71053', 'WHITE METAL LANTERN'), ('84406B', 'CREAM CUPID HEARTS COAT HANGER'), ('84029G', 'KNITTED UNION FLAG HOT WATER BOTTLE'), ('84029E', 'RED WOOLLY HOTTIE WHITE HEART.'), ('22752', 'SET 7 BABUSHKA NESTING BOXES'), ('21730', 'GLASS STAR FROSTED T-LIGHT HOLDER'), ('22633', 'HAND WARMER UNION JACK'), ('22632', 'HAND WARMER RED POLKA DOT'), ('84879', 'ASSORTED COLOUR BIRD ORNAMENT')]\n"
     ]
    }
   ],
   "source": [
    "item_tuples = [(row['StockCode'], row['Description']) for index, row in df.iterrows()]\n",
    "\n",
    "# print the first 10 tuples\n",
    "print(item_tuples[:10])"
   ]
  },
  {
   "cell_type": "code",
   "execution_count": 5,
   "metadata": {},
   "outputs": [
    {
     "name": "stderr",
     "output_type": "stream",
     "text": [
      "2023-08-15 01:12:57.299662: I tensorflow/compiler/xla/stream_executor/cuda/cuda_gpu_executor.cc:995] successful NUMA node read from SysFS had negative value (-1), but there must be at least one NUMA node, so returning NUMA node zero. See more at https://github.com/torvalds/linux/blob/v6.0/Documentation/ABI/testing/sysfs-bus-pci#L344-L355\n",
      "2023-08-15 01:12:57.301506: W tensorflow/core/common_runtime/gpu/gpu_device.cc:1960] Cannot dlopen some GPU libraries. Please make sure the missing libraries mentioned above are installed properly if you would like to use GPU. Follow the guide at https://www.tensorflow.org/install/gpu for how to download and setup the required libraries for your platform.\n",
      "Skipping registering GPU devices...\n"
     ]
    }
   ],
   "source": [
    "module_url = \"https://tfhub.dev/google/universal-sentence-encoder/4\" #@param [\"https://tfhub.dev/google/universal-sentence-encoder/4\", \"https://tfhub.dev/google/universal-sentence-encoder-large/5\"]\n",
    "model = hub.load(module_url)\n",
    "def embed(input):\n",
    "  return model(input)\n",
    "\n",
    "\n",
    "def calculate_cosine_similarity(vec_a, vec_b):\n",
    "    vec_a = np.array(vec_a).reshape(1, -1)\n",
    "    vec_b = np.array(vec_b).reshape(1, -1)\n",
    "    \n",
    "    similarity = cosine_similarity(vec_a, vec_b)\n",
    "    return similarity[0][0]"
   ]
  },
  {
   "cell_type": "code",
   "execution_count": 13,
   "metadata": {},
   "outputs": [
    {
     "name": "stdout",
     "output_type": "stream",
     "text": [
      "GLASS BELL JAR SMALL\n",
      "('22777', 'GLASS BELL JAR LARGE', array([[0.9253808]], dtype=float32))\n",
      "('85146', 'JARDIN ETCHED GLASS SMALL BELL JAR', array([[0.8178096]], dtype=float32))\n",
      "('85145', 'JARDIN ETCHED GLASS LARGE BELL JAR', array([[0.7442939]], dtype=float32))\n",
      "('23089', 'GLASS BON BON JAR', array([[0.6156906]], dtype=float32))\n",
      "('23021', 'GLASS BONNE JAM JAR', array([[0.6015152]], dtype=float32))\n",
      "('23016', 'GLASS TWIST BON BON JAR', array([[0.5970974]], dtype=float32))\n",
      "('23020', 'GLASS SONGBIRD STORAGE JAR', array([[0.5664035]], dtype=float32))\n",
      "('23014', 'GLASS APOTHECARY BOTTLE ELIXIR', array([[0.51625276]], dtype=float32))\n",
      "('84750A', 'PINK SMALL GLASS CAKE STAND', array([[0.50708103]], dtype=float32))\n",
      "('23012', 'GLASS APOTHECARY BOTTLE PERFUME', array([[0.49571562]], dtype=float32))\n"
     ]
    }
   ],
   "source": [
    "test_item = '22778'\n",
    "\n",
    "# want the longest description for the item from the df\n",
    "all_description = df[df['StockCode'] == test_item]['Description']\n",
    "# det the longest str in all_description\n",
    "longest_description = max(all_description, key=len)\n",
    "print(longest_description)\n",
    "\n",
    "description_embedding = embed([longest_description])\n",
    "\n",
    "# get the 10 most similar items from item_tuples using cosine similarity\n",
    "similar_items = []\n",
    "for item in item_tuples:\n",
    "    if(item[0] == test_item):\n",
    "        continue\n",
    "    item_embedding = embed([item[1]])\n",
    "    similarity = cosine_similarity(description_embedding, item_embedding)\n",
    "    # if similairty is higher than all similarities in similar_items, add it to similar_items \n",
    "    if len(similar_items) < 10 and similarity > 0.4:\n",
    "        similar_items.append((item[0], item[1], similarity))\n",
    "    else:\n",
    "        for i in range(len(similar_items)):\n",
    "            if similarity > similar_items[i][2]:\n",
    "                similar_items[i] = (item[0], item[1], similarity)\n",
    "                break\n",
    "\n",
    "# print the 10 most similar items\n",
    "for item in similar_items:\n",
    "    print(item)"
   ]
  },
  {
   "cell_type": "code",
   "execution_count": null,
   "metadata": {},
   "outputs": [],
   "source": []
  }
 ],
 "metadata": {
  "kernelspec": {
   "display_name": "rmd",
   "language": "python",
   "name": "python3"
  },
  "language_info": {
   "codemirror_mode": {
    "name": "ipython",
    "version": 3
   },
   "file_extension": ".py",
   "mimetype": "text/x-python",
   "name": "python",
   "nbconvert_exporter": "python",
   "pygments_lexer": "ipython3",
   "version": "3.8.17"
  },
  "orig_nbformat": 4
 },
 "nbformat": 4,
 "nbformat_minor": 2
}
